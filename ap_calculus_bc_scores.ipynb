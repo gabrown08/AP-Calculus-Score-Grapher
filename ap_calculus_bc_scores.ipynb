{
 "cells": [
  {
   "cell_type": "markdown",
   "metadata": {},
   "source": [
    "# AP Calculus BC Scores Grapher\n",
    "**By Greg Brown, 7/25/2019**\n",
    "\n",
    "## Overview\n",
    "From the current working directory, this program reads a user-submitted .csv file which contains AP Calculus BC score data. The program displays various plots of AP Calculus BC score data. This program helps me visualize my own students' performance. For this notebook, I used my own personal AP Calculus BC data from my own career at Francis Howell North High School. I discuss my analysis of the data after each plot, summarize big points for all the data, and formulate a goal for next year at the end. \n",
    "\n",
    "#### Disclaimer\n",
    "AP Calculus students have the option of receiving transferable college credit through UMSL for this class. The following data does not reflect student success through UMSL, it only monitors student success on the AP Calculus exam.\n",
    "\n",
    "#### Official College Board Recommendation Based on AP Exam Score\n",
    "A score of 3 is considered a qualifying score, 4 is considered very well qualified, and 5 is considered extremely well qualified."
   ]
  },
  {
   "cell_type": "code",
   "execution_count": 2,
   "metadata": {},
   "outputs": [],
   "source": [
    "#import packages\n",
    "import pandas as pd\n",
    "import matplotlib.pyplot as plt\n",
    "import numpy as np"
   ]
  },
  {
   "cell_type": "code",
   "execution_count": 4,
   "metadata": {},
   "outputs": [
    {
     "name": "stdout",
     "output_type": "stream",
     "text": [
      "type the filename of the AP Calculus BC scores: greg_brown_ap_calculus_bc_scores.csv\n",
      "\n",
      "here is he raw data\n",
      "   Year  Number of 1s  Number of 2s  Number of 3s  Number of 4s  Number of 5s  \\\n",
      "0  2017             2             6             4             0             4   \n",
      "1  2018             1             6             2             4             7   \n",
      "2  2019             0             1             5             6             3   \n",
      "\n",
      "   Total Tests Taken  Percent 3 or Higher  Average Score  \n",
      "0                 16            50.000000       2.875000  \n",
      "1                 20            65.000000       3.500000  \n",
      "2                 15            93.333333       3.733333  \n"
     ]
    }
   ],
   "source": [
    "#load the file\n",
    "file = input(\"type the filename of the AP Calculus BC scores: \")\n",
    "bcScores = pd.read_csv(file)\n",
    "\n",
    "#display data\n",
    "print()\n",
    "print(\"here is he raw data\")\n",
    "print(bcScores)"
   ]
  },
  {
   "cell_type": "code",
   "execution_count": 6,
   "metadata": {},
   "outputs": [
    {
     "data": {
      "image/png": "[encoded data removed]",
      "text/plain": [
       "<Figure size 432x288 with 1 Axes>"
      ]
     },
     "metadata": {
      "needs_background": "light"
     },
     "output_type": "display_data"
    }
   ],
   "source": [
    "#in this section we will look at the calculus ab scores by year\n",
    "\n",
    "#create subplot\n",
    "figure1 = plt.subplot()\n",
    "\n",
    "#create individual bar plot for every AP Calculus AB score\n",
    "figure1.bar(np.array(bcScores[\"Year\"] - .30), bcScores[\"Number of 1s\"], .15, label=\"1\", color=\"red\")\n",
    "figure1.bar(np.array(bcScores[\"Year\"] - .15), bcScores[\"Number of 2s\"], .15, label=\"2\", color=\"orange\")\n",
    "figure1.bar(np.array(bcScores[\"Year\"] + .00), bcScores[\"Number of 3s\"], .15, label=\"3\", color=\"green\")\n",
    "figure1.bar(np.array(bcScores[\"Year\"] + .15), bcScores[\"Number of 4s\"], .15, label=\"4\", color=\"blue\")\n",
    "figure1.bar(np.array(bcScores[\"Year\"] + .30), bcScores[\"Number of 5s\"], .15, label=\"5\", color=\"purple\")\n",
    "\n",
    "#create labels\n",
    "figure1.set_title(\"AP Calculus BC Scores by Year\")\n",
    "figure1.set_ylabel(\"Frequency\")\n",
    "figure1.set_xlabel(\"Year\")\n",
    "figure1.set_xticks(bcScores[\"Year\"])\n",
    "figure1.legend()\n",
    "\n",
    "\n",
    "#show subplot\n",
    "plt.show()"
   ]
  },
  {
   "cell_type": "markdown",
   "metadata": {},
   "source": [
    "### AP Calculus BC Scores by Year\n",
    "The graph shows a few trends. The number of 1s steadily decreased from two in 2017 to zero in 2019. The number of 4s increased from 0 in 2017 to 6 in 2019. Even though 2019 has the smallest number of 1s and 2s, it also has the smallest number of 5s. There were seven 5s in 2018.\n",
    "\n"
   ]
  },
  {
   "cell_type": "code",
   "execution_count": 8,
   "metadata": {},
   "outputs": [
    {
     "data": {
      "image/png": "[encoded data removed]",
      "text/plain": [
       "<Figure size 432x288 with 2 Axes>"
      ]
     },
     "metadata": {
      "needs_background": "light"
     },
     "output_type": "display_data"
    }
   ],
   "source": [
    "#now we will plot the average score per year and the percent 3 or higher per year, side by side\n",
    "\n",
    "#create plot\n",
    "plt.figure()\n",
    "\n",
    "\n",
    "#create the percent 3 or higher subplot\n",
    "plt.subplot(211)\n",
    "plt.subplot(211).set_title(\"AP Calculus BC Statistics by Year\")\n",
    "plt.plot(bcScores[\"Year\"], abScores[\"Percent 3 or Higher\"], color=\"green\", marker='o')\n",
    "plt.subplot(211).set_ylabel(\"Percent 3 or Higher\")\n",
    "plt.subplot(211).set_xlabel(\"Year\")\n",
    "plt.subplot(211).set_xticks(bcScores[\"Year\"])\n",
    "\n",
    "\n",
    "#create the average score subplot\n",
    "plt.subplot(212)\n",
    "plt.plot(bcScores[\"Year\"], bcScores[\"Average Score\"], marker='o')\n",
    "plt.subplot(212).set_ylabel(\"Average Score\")\n",
    "plt.subplot(212).set_xlabel(\"Year\")\n",
    "plt.subplot(212).set_xticks(bcScores[\"Year\"])\n",
    "\n",
    "\n",
    "#show plot\n",
    "plt.show()"
   ]
  },
  {
   "cell_type": "markdown",
   "metadata": {},
   "source": [
    "### AP Calculus BC Statistics by Year\n",
    "\n",
    "##### Percent 3 or Higher\n",
    "Starting at 50% in 2017, the percent of 3 or higher scores increased to 93% in 2019. The percent of 3 or higher AP Calculus BC scores is increasing at a faster rate.\n",
    "\n",
    "##### Average Score\n",
    "The highest average AP Calculus BC score achieved so far is 3.75 which was achieved in 2019. The average scores of AP Calculus BC are increasing."
   ]
  },
  {
   "cell_type": "markdown",
   "metadata": {},
   "source": [
    "# Overall Conclusion for AP Calculus BC scores\n",
    "AP Calculus BC performance has been steadily increasing to their highest numbers yet in 2019. 93% of students earning a 3 or higher is exceptional. \n",
    "\n",
    "# Goal for next year\n",
    "My goal for AP Calculus BC in 2020 is to have at least seven 5s, 100% 3 or higher, and an average score of at least 4."
   ]
  },
  {
   "cell_type": "code",
   "execution_count": null,
   "metadata": {},
   "outputs": [],
   "source": []
  }
 ],
 "metadata": {
  "kernelspec": {
   "display_name": "Python 3",
   "language": "python",
   "name": "python3"
  },
  "language_info": {
   "codemirror_mode": {
    "name": "ipython",
    "version": 3
   },
   "file_extension": ".py",
   "mimetype": "text/x-python",
   "name": "python",
   "nbconvert_exporter": "python",
   "pygments_lexer": "ipython3",
   "version": "3.7.3"
  }
 },
 "nbformat": 4,
 "nbformat_minor": 2
}
